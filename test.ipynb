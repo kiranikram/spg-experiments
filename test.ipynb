{
 "cells": [
  {
   "cell_type": "code",
   "execution_count": 1,
   "metadata": {
    "collapsed": true
   },
   "outputs": [
    {
     "name": "stdout",
     "output_type": "stream",
     "text": [
      "pygame 1.9.6\nHello from the pygame community. https://www.pygame.org/contribute.html\nLoading chipmunk for Linux (64bit) [/home/michael/.local/lib/python3.6/site-packages/pymunk/libchipmunk.so]\n"
     ]
    }
   ],
   "source": [
    "from simple_playgrounds.controllers import Keyboard, External\n",
    "from simple_playgrounds.entities.agents import BaseInteractiveAgent\n",
    "from simple_playgrounds.entities.agents.sensors import RgbSensor, DepthSensor, TopdownSensor, TouchSensor\n",
    "from simple_playgrounds.playgrounds.collection import *\n"
   ]
  },
  {
   "cell_type": "code",
   "execution_count": 2,
   "metadata": {
    "collapsed": false
   },
   "outputs": [
    {
     "name": "stderr",
     "output_type": "stream",
     "text": [
      "/usr/local/lib/python3.6/dist-packages/tensorflow/python/framework/dtypes.py:516: FutureWarning: Passing (type, 1) or '1type' as a synonym of type is deprecated; in a future version of numpy, it will be understood as (type, (1,)) / '(1,)type'.\n  _np_qint8 = np.dtype([(\"qint8\", np.int8, 1)])\n/usr/local/lib/python3.6/dist-packages/tensorflow/python/framework/dtypes.py:517: FutureWarning: Passing (type, 1) or '1type' as a synonym of type is deprecated; in a future version of numpy, it will be understood as (type, (1,)) / '(1,)type'.\n  _np_quint8 = np.dtype([(\"quint8\", np.uint8, 1)])\n/usr/local/lib/python3.6/dist-packages/tensorflow/python/framework/dtypes.py:518: FutureWarning: Passing (type, 1) or '1type' as a synonym of type is deprecated; in a future version of numpy, it will be understood as (type, (1,)) / '(1,)type'.\n  _np_qint16 = np.dtype([(\"qint16\", np.int16, 1)])\n/usr/local/lib/python3.6/dist-packages/tensorflow/python/framework/dtypes.py:519: FutureWarning: Passing (type, 1) or '1type' as a synonym of type is deprecated; in a future version of numpy, it will be understood as (type, (1,)) / '(1,)type'.\n  _np_quint16 = np.dtype([(\"quint16\", np.uint16, 1)])\n/usr/local/lib/python3.6/dist-packages/tensorflow/python/framework/dtypes.py:520: FutureWarning: Passing (type, 1) or '1type' as a synonym of type is deprecated; in a future version of numpy, it will be understood as (type, (1,)) / '(1,)type'.\n  _np_qint32 = np.dtype([(\"qint32\", np.int32, 1)])\n/usr/local/lib/python3.6/dist-packages/tensorflow/python/framework/dtypes.py:525: FutureWarning: Passing (type, 1) or '1type' as a synonym of type is deprecated; in a future version of numpy, it will be understood as (type, (1,)) / '(1,)type'.\n  np_resource = np.dtype([(\"resource\", np.ubyte, 1)])\n"
     ]
    },
    {
     "name": "stderr",
     "output_type": "stream",
     "text": [
      "/usr/local/lib/python3.6/dist-packages/tensorboard/compat/tensorflow_stub/dtypes.py:541: FutureWarning: Passing (type, 1) or '1type' as a synonym of type is deprecated; in a future version of numpy, it will be understood as (type, (1,)) / '(1,)type'.\n  _np_qint8 = np.dtype([(\"qint8\", np.int8, 1)])\n/usr/local/lib/python3.6/dist-packages/tensorboard/compat/tensorflow_stub/dtypes.py:542: FutureWarning: Passing (type, 1) or '1type' as a synonym of type is deprecated; in a future version of numpy, it will be understood as (type, (1,)) / '(1,)type'.\n  _np_quint8 = np.dtype([(\"quint8\", np.uint8, 1)])\n/usr/local/lib/python3.6/dist-packages/tensorboard/compat/tensorflow_stub/dtypes.py:543: FutureWarning: Passing (type, 1) or '1type' as a synonym of type is deprecated; in a future version of numpy, it will be understood as (type, (1,)) / '(1,)type'.\n  _np_qint16 = np.dtype([(\"qint16\", np.int16, 1)])\n/usr/local/lib/python3.6/dist-packages/tensorboard/compat/tensorflow_stub/dtypes.py:544: FutureWarning: Passing (type, 1) or '1type' as a synonym of type is deprecated; in a future version of numpy, it will be understood as (type, (1,)) / '(1,)type'.\n  _np_quint16 = np.dtype([(\"quint16\", np.uint16, 1)])\n/usr/local/lib/python3.6/dist-packages/tensorboard/compat/tensorflow_stub/dtypes.py:545: FutureWarning: Passing (type, 1) or '1type' as a synonym of type is deprecated; in a future version of numpy, it will be understood as (type, (1,)) / '(1,)type'.\n  _np_qint32 = np.dtype([(\"qint32\", np.int32, 1)])\n/usr/local/lib/python3.6/dist-packages/tensorboard/compat/tensorflow_stub/dtypes.py:550: FutureWarning: Passing (type, 1) or '1type' as a synonym of type is deprecated; in a future version of numpy, it will be understood as (type, (1,)) / '(1,)type'.\n  np_resource = np.dtype([(\"resource\", np.ubyte, 1)])\n"
     ]
    },
    {
     "name": "stderr",
     "output_type": "stream",
     "text": [
      "/usr/local/lib/python3.6/dist-packages/gym/logger.py:30: UserWarning: \u001b[33mWARN: Box bound precision lowered by casting to float32\u001b[0m\n  warnings.warn(colorize('%s: %s'%('WARN', msg % args), 'yellow'))\n"
     ]
    },
    {
     "name": "stderr",
     "output_type": "stream",
     "text": [
      "/usr/local/lib/python3.6/dist-packages/gym/logger.py:30: UserWarning: \u001b[33mWARN: Box bound precision lowered by casting to float32\u001b[0m\n  warnings.warn(colorize('%s: %s'%('WARN', msg % args), 'yellow'))\n"
     ]
    },
    {
     "name": "stderr",
     "output_type": "stream",
     "text": [
      "/usr/local/lib/python3.6/dist-packages/gym/logger.py:30: UserWarning: \u001b[33mWARN: Box bound precision lowered by casting to float32\u001b[0m\n  warnings.warn(colorize('%s: %s'%('WARN', msg % args), 'yellow'))\n"
     ]
    },
    {
     "name": "stderr",
     "output_type": "stream",
     "text": [
      "/usr/local/lib/python3.6/dist-packages/gym/logger.py:30: UserWarning: \u001b[33mWARN: Box bound precision lowered by casting to float32\u001b[0m\n  warnings.warn(colorize('%s: %s'%('WARN', msg % args), 'yellow'))\n"
     ]
    },
    {
     "name": "stderr",
     "output_type": "stream",
     "text": [
      "/usr/local/lib/python3.6/dist-packages/gym/logger.py:30: UserWarning: \u001b[33mWARN: Box bound precision lowered by casting to float32\u001b[0m\n  warnings.warn(colorize('%s: %s'%('WARN', msg % args), 'yellow'))\n"
     ]
    },
    {
     "name": "stderr",
     "output_type": "stream",
     "text": [
      "/usr/local/lib/python3.6/dist-packages/gym/logger.py:30: UserWarning: \u001b[33mWARN: Box bound precision lowered by casting to float32\u001b[0m\n  warnings.warn(colorize('%s: %s'%('WARN', msg % args), 'yellow'))\n"
     ]
    },
    {
     "name": "stderr",
     "output_type": "stream",
     "text": [
      "/usr/local/lib/python3.6/dist-packages/gym/logger.py:30: UserWarning: \u001b[33mWARN: Box bound precision lowered by casting to float32\u001b[0m\n  warnings.warn(colorize('%s: %s'%('WARN', msg % args), 'yellow'))\n"
     ]
    },
    {
     "name": "stderr",
     "output_type": "stream",
     "text": [
      "/usr/local/lib/python3.6/dist-packages/gym/logger.py:30: UserWarning: \u001b[33mWARN: Box bound precision lowered by casting to float32\u001b[0m\n  warnings.warn(colorize('%s: %s'%('WARN', msg % args), 'yellow'))\n"
     ]
    }
   ],
   "source": [
    "from stable_baselines.common.vec_env import SubprocVecEnv\n",
    "from wrappers.stable_wrappers import make_vector_env\n",
    "\n",
    "class MyAgent(BaseInteractiveAgent):\n",
    "    \n",
    "    def __init__(self):\n",
    "        \n",
    "        super().__init__(controller=External(), allow_overlapping=False)\n",
    "        \n",
    "        self.add_sensor(RgbSensor(anchor=self.base_platform, range = 300, normalize=True, fov=180, resolution=64))\n",
    "        self.add_sensor(DepthSensor(anchor=self.base_platform, range = 300, normalize=True, fov=180, resolution=64))\n",
    "        self.add_sensor(TouchSensor(anchor=self.base_platform, normalize=True, resolution=64))\n",
    "        \n",
    "pg = PlaygroundRegister.playgrounds['rl_dispenser_2rooms']()\n",
    "agent = MyAgent()\n",
    "\n",
    "envs = [ make_vector_env(pg, agent, multisteps = 3) for i in range(8)]\n",
    "env_vec = SubprocVecEnv( envs, start_method='fork' )\n",
    "\n",
    "# engine = Engine(pg, agents=agent, replay=False, screen=False)\n",
    "# env = PlaygroundEnv(engine, agent)\n",
    "    "
   ]
  },
  {
   "cell_type": "code",
   "execution_count": 3,
   "metadata": {
    "collapsed": false
   },
   "outputs": [
    {
     "name": "stdout",
     "output_type": "stream",
     "text": [
      "WARNING:tensorflow:From /usr/local/lib/python3.6/dist-packages/stable_baselines/common/tf_util.py:191: The name tf.ConfigProto is deprecated. Please use tf.compat.v1.ConfigProto instead.\n\n"
     ]
    },
    {
     "name": "stdout",
     "output_type": "stream",
     "text": [
      "WARNING:tensorflow:From /usr/local/lib/python3.6/dist-packages/stable_baselines/common/tf_util.py:200: The name tf.Session is deprecated. Please use tf.compat.v1.Session instead.\n\n"
     ]
    },
    {
     "name": "stdout",
     "output_type": "stream",
     "text": [
      "WARNING:tensorflow:From /home/michael/projects/simple-playgrounds/wrappers/stable_wrappers.py:219: The name tf.variable_scope is deprecated. Please use tf.compat.v1.variable_scope instead.\n\n"
     ]
    },
    {
     "name": "stdout",
     "output_type": "stream",
     "text": [
      "WARNING:tensorflow:From /usr/local/lib/python3.6/dist-packages/tensorflow/python/ops/init_ops.py:1251: calling VarianceScaling.__init__ (from tensorflow.python.ops.init_ops) with dtype is deprecated and will be removed in a future version.\nInstructions for updating:\nCall initializer instance with the dtype argument instead of passing it to the constructor\n"
     ]
    },
    {
     "name": "stdout",
     "output_type": "stream",
     "text": [
      "WARNING:tensorflow:From /usr/local/lib/python3.6/dist-packages/stable_baselines/common/input.py:25: The name tf.placeholder is deprecated. Please use tf.compat.v1.placeholder instead.\n\n"
     ]
    },
    {
     "name": "stdout",
     "output_type": "stream",
     "text": [
      "WARNING:tensorflow:From /usr/local/lib/python3.6/dist-packages/tensorflow/python/keras/backend.py:4075: add_dispatch_support.<locals>.wrapper (from tensorflow.python.ops.array_ops) is deprecated and will be removed in a future version.\nInstructions for updating:\nUse tf.where in 2.0, which has the same broadcast rule as np.where\n"
     ]
    },
    {
     "name": "stdout",
     "output_type": "stream",
     "text": [
      "WARNING:tensorflow:From /usr/local/lib/python3.6/dist-packages/stable_baselines/common/tf_layers.py:143: The name tf.get_variable is deprecated. Please use tf.compat.v1.get_variable instead.\n\n"
     ]
    },
    {
     "name": "stdout",
     "output_type": "stream",
     "text": [
      "WARNING:tensorflow:From /usr/local/lib/python3.6/dist-packages/stable_baselines/ppo2/ppo2.py:190: The name tf.summary.scalar is deprecated. Please use tf.compat.v1.summary.scalar instead.\n\n"
     ]
    },
    {
     "name": "stdout",
     "output_type": "stream",
     "text": [
      "WARNING:tensorflow:From /usr/local/lib/python3.6/dist-packages/stable_baselines/ppo2/ppo2.py:206: The name tf.train.AdamOptimizer is deprecated. Please use tf.compat.v1.train.AdamOptimizer instead.\n\n"
     ]
    },
    {
     "name": "stdout",
     "output_type": "stream",
     "text": [
      "WARNING:tensorflow:From /usr/local/lib/python3.6/dist-packages/stable_baselines/ppo2/ppo2.py:242: The name tf.summary.merge_all is deprecated. Please use tf.compat.v1.summary.merge_all instead.\n\n"
     ]
    },
    {
     "name": "stdout",
     "output_type": "stream",
     "text": [
      "-----------------------------------\n| approxkl           | 0.17593005 |\n| clipfrac           | 0.625      |\n| explained_variance | -0.00818   |\n| fps                | 42         |\n| n_updates          | 1          |\n| policy_entropy     | 8.515953   |\n| policy_loss        | 0.08935186 |\n| serial_timesteps   | 128        |\n| time_elapsed       | 1.38e-05   |\n| total_timesteps    | 1024       |\n| value_loss         | 2.8056862  |\n-----------------------------------\n"
     ]
    },
    {
     "name": "stdout",
     "output_type": "stream",
     "text": [
      "------------------------------------\n| approxkl           | 0.05560063  |\n| clipfrac           | 0.46240234  |\n| explained_variance | -0.0013     |\n| fps                | 382         |\n| n_updates          | 2           |\n| policy_entropy     | 8.521169    |\n| policy_loss        | 0.036497258 |\n| serial_timesteps   | 256         |\n| time_elapsed       | 24.3        |\n| total_timesteps    | 2048        |\n| value_loss         | 5.7611647   |\n------------------------------------\n"
     ]
    },
    {
     "name": "stdout",
     "output_type": "stream",
     "text": [
      "-----------------------------------\n| approxkl           | 0.07215175 |\n| clipfrac           | 0.4921875  |\n| explained_variance | 0.000202   |\n| fps                | 368        |\n| n_updates          | 3          |\n| policy_entropy     | 8.525897   |\n| policy_loss        | 0.01992777 |\n| serial_timesteps   | 384        |\n| time_elapsed       | 27         |\n| total_timesteps    | 3072       |\n| value_loss         | 5.66941    |\n-----------------------------------\n"
     ]
    },
    {
     "name": "stdout",
     "output_type": "stream",
     "text": [
      "------------------------------------\n| approxkl           | 0.06593543  |\n| clipfrac           | 0.48632812  |\n| explained_variance | -0.00172    |\n| fps                | 382         |\n| n_updates          | 4           |\n| policy_entropy     | 8.532866    |\n| policy_loss        | 0.023411334 |\n| serial_timesteps   | 512         |\n| time_elapsed       | 29.8        |\n| total_timesteps    | 4096        |\n| value_loss         | 9.631102    |\n------------------------------------\n"
     ]
    },
    {
     "name": "stdout",
     "output_type": "stream",
     "text": [
      "------------------------------------\n| approxkl           | 0.042079426 |\n| clipfrac           | 0.43603516  |\n| explained_variance | -0.00348    |\n| fps                | 382         |\n| n_updates          | 5           |\n| policy_entropy     | 8.538419    |\n| policy_loss        | 0.04146393  |\n| serial_timesteps   | 640         |\n| time_elapsed       | 32.4        |\n| total_timesteps    | 5120        |\n| value_loss         | 1.3355957   |\n------------------------------------\n"
     ]
    },
    {
     "name": "stdout",
     "output_type": "stream",
     "text": [
      "------------------------------------\n| approxkl           | 0.04356975  |\n| clipfrac           | 0.43432617  |\n| explained_variance | -0.0149     |\n| fps                | 352         |\n| n_updates          | 6           |\n| policy_entropy     | 8.540696    |\n| policy_loss        | 0.024896763 |\n| serial_timesteps   | 768         |\n| time_elapsed       | 35.1        |\n| total_timesteps    | 6144        |\n| value_loss         | 0.8140084   |\n------------------------------------\n"
     ]
    },
    {
     "name": "stdout",
     "output_type": "stream",
     "text": [
      "------------------------------------\n| approxkl           | 0.042964857 |\n| clipfrac           | 0.41308594  |\n| explained_variance | -0.000208   |\n| fps                | 365         |\n| n_updates          | 7           |\n| policy_entropy     | 8.543839    |\n| policy_loss        | 0.027934633 |\n| serial_timesteps   | 896         |\n| time_elapsed       | 38          |\n| total_timesteps    | 7168        |\n| value_loss         | 5.609321    |\n------------------------------------\n"
     ]
    },
    {
     "name": "stdout",
     "output_type": "stream",
     "text": [
      "------------------------------------\n| approxkl           | 0.040695652 |\n| clipfrac           | 0.41333008  |\n| explained_variance | 0.000972    |\n| fps                | 377         |\n| n_updates          | 8           |\n| policy_entropy     | 8.547207    |\n| policy_loss        | 0.024906602 |\n| serial_timesteps   | 1024        |\n| time_elapsed       | 40.8        |\n| total_timesteps    | 8192        |\n| value_loss         | 14.250615   |\n------------------------------------\n"
     ]
    },
    {
     "name": "stdout",
     "output_type": "stream",
     "text": [
      "------------------------------------\n| approxkl           | 0.035306383 |\n| clipfrac           | 0.3894043   |\n| explained_variance | 0.00822     |\n| fps                | 391         |\n| n_updates          | 9           |\n| policy_entropy     | 8.551146    |\n| policy_loss        | 0.021320889 |\n| serial_timesteps   | 1152        |\n| time_elapsed       | 43.5        |\n| total_timesteps    | 9216        |\n| value_loss         | 3.6469107   |\n------------------------------------\n"
     ]
    },
    {
     "name": "stdout",
     "output_type": "stream",
     "text": [
      "------------------------------------\n| approxkl           | 0.03332978  |\n| clipfrac           | 0.38354492  |\n| explained_variance | 0.00124     |\n| fps                | 389         |\n| n_updates          | 10          |\n| policy_entropy     | 8.557558    |\n| policy_loss        | 0.017718827 |\n| serial_timesteps   | 1280        |\n| time_elapsed       | 46.2        |\n| total_timesteps    | 10240       |\n| value_loss         | 1.0697378   |\n------------------------------------\n"
     ]
    },
    {
     "name": "stdout",
     "output_type": "stream",
     "text": [
      "------------------------------------\n| approxkl           | 0.054424793 |\n| clipfrac           | 0.45581055  |\n| explained_variance | -0.00647    |\n| fps                | 367         |\n| n_updates          | 11          |\n| policy_entropy     | 8.565172    |\n| policy_loss        | 0.01601968  |\n| serial_timesteps   | 1408        |\n| time_elapsed       | 48.8        |\n| total_timesteps    | 11264       |\n| value_loss         | 0.19548392  |\n------------------------------------\n"
     ]
    },
    {
     "name": "stdout",
     "output_type": "stream",
     "text": [
      "-------------------------------------\n| approxkl           | 0.032615438  |\n| clipfrac           | 0.35620117   |\n| explained_variance | -4.03        |\n| fps                | 366          |\n| n_updates          | 12           |\n| policy_entropy     | 8.573003     |\n| policy_loss        | 0.02641204   |\n| serial_timesteps   | 1536         |\n| time_elapsed       | 51.6         |\n| total_timesteps    | 12288        |\n| value_loss         | 0.0049356087 |\n-------------------------------------\n"
     ]
    },
    {
     "name": "stdout",
     "output_type": "stream",
     "text": [
      "-------------------------------------\n| approxkl           | 0.032994326  |\n| clipfrac           | 0.39819336   |\n| explained_variance | -2.9         |\n| fps                | 363          |\n| n_updates          | 13           |\n| policy_entropy     | 8.584861     |\n| policy_loss        | 0.011245269  |\n| serial_timesteps   | 1664         |\n| time_elapsed       | 54.4         |\n| total_timesteps    | 13312        |\n| value_loss         | 0.0026825403 |\n-------------------------------------\n"
     ]
    },
    {
     "name": "stdout",
     "output_type": "stream",
     "text": [
      "------------------------------------\n| approxkl           | 0.0442159   |\n| clipfrac           | 0.43530273  |\n| explained_variance | 0.000634    |\n| fps                | 379         |\n| n_updates          | 14          |\n| policy_entropy     | 8.592116    |\n| policy_loss        | 0.029985854 |\n| serial_timesteps   | 1792        |\n| time_elapsed       | 57.2        |\n| total_timesteps    | 14336       |\n| value_loss         | 10.0131235  |\n------------------------------------\n"
     ]
    },
    {
     "name": "stdout",
     "output_type": "stream",
     "text": [
      "-----------------------------------\n| approxkl           | 0.03896281 |\n| clipfrac           | 0.3972168  |\n| explained_variance | 0.00168    |\n| fps                | 383        |\n| n_updates          | 15         |\n| policy_entropy     | 8.597474   |\n| policy_loss        | 0.04018264 |\n| serial_timesteps   | 1920       |\n| time_elapsed       | 59.9       |\n| total_timesteps    | 15360      |\n| value_loss         | 11.62641   |\n-----------------------------------\n"
     ]
    },
    {
     "name": "stdout",
     "output_type": "stream",
     "text": [
      "------------------------------------\n| approxkl           | 0.047497995 |\n| clipfrac           | 0.40625     |\n| explained_variance | 0.00565     |\n| fps                | 372         |\n| n_updates          | 16          |\n| policy_entropy     | 8.598583    |\n| policy_loss        | 0.015727017 |\n| serial_timesteps   | 2048        |\n| time_elapsed       | 62.6        |\n| total_timesteps    | 16384       |\n| value_loss         | 4.017131    |\n------------------------------------\n"
     ]
    },
    {
     "name": "stdout",
     "output_type": "stream",
     "text": [
      "------------------------------------\n| approxkl           | 0.03455393  |\n| clipfrac           | 0.3684082   |\n| explained_variance | -0.000889   |\n| fps                | 350         |\n| n_updates          | 17          |\n| policy_entropy     | 8.5977545   |\n| policy_loss        | 0.020178534 |\n| serial_timesteps   | 2176        |\n| time_elapsed       | 65.3        |\n| total_timesteps    | 17408       |\n| value_loss         | 2.4416804   |\n------------------------------------\n"
     ]
    },
    {
     "name": "stdout",
     "output_type": "stream",
     "text": [
      "------------------------------------\n| approxkl           | 0.032974776 |\n| clipfrac           | 0.38134766  |\n| explained_variance | 0.000297    |\n| fps                | 369         |\n| n_updates          | 18          |\n| policy_entropy     | 8.600849    |\n| policy_loss        | 0.025681557 |\n| serial_timesteps   | 2304        |\n| time_elapsed       | 68.2        |\n| total_timesteps    | 18432       |\n| value_loss         | 0.5059233   |\n------------------------------------\n"
     ]
    },
    {
     "name": "stdout",
     "output_type": "stream",
     "text": [
      "------------------------------------\n| approxkl           | 0.045553025 |\n| clipfrac           | 0.4333496   |\n| explained_variance | -0.000313   |\n| fps                | 367         |\n| n_updates          | 19          |\n| policy_entropy     | 8.600755    |\n| policy_loss        | 0.023572655 |\n| serial_timesteps   | 2432        |\n| time_elapsed       | 71          |\n| total_timesteps    | 19456       |\n| value_loss         | 22.351881   |\n------------------------------------\n"
     ]
    },
    {
     "name": "stdout",
     "output_type": "stream",
     "text": [
      "-------------------------------------\n| approxkl           | 0.03286806   |\n| clipfrac           | 0.34692383   |\n| explained_variance | 0.000227     |\n| fps                | 387          |\n| n_updates          | 20           |\n| policy_entropy     | 8.60382      |\n| policy_loss        | 0.0123424055 |\n| serial_timesteps   | 2560         |\n| time_elapsed       | 73.8         |\n| total_timesteps    | 20480        |\n| value_loss         | 6.7288737    |\n-------------------------------------\n"
     ]
    },
    {
     "name": "stdout",
     "output_type": "stream",
     "text": [
      "------------------------------------\n| approxkl           | 0.035678275 |\n| clipfrac           | 0.34887695  |\n| explained_variance | 0.00717     |\n| fps                | 372         |\n| n_updates          | 21          |\n| policy_entropy     | 8.608503    |\n| policy_loss        | 0.029277029 |\n| serial_timesteps   | 2688        |\n| time_elapsed       | 76.4        |\n| total_timesteps    | 21504       |\n| value_loss         | 3.7990959   |\n------------------------------------\n"
     ]
    },
    {
     "name": "stdout",
     "output_type": "stream",
     "text": [
      "------------------------------------\n| approxkl           | 0.038170736 |\n| clipfrac           | 0.38256836  |\n| explained_variance | -3.5        |\n| fps                | 363         |\n| n_updates          | 22          |\n| policy_entropy     | 8.615204    |\n| policy_loss        | 0.030516796 |\n| serial_timesteps   | 2816        |\n| time_elapsed       | 79.2        |\n| total_timesteps    | 22528       |\n| value_loss         | 0.013812358 |\n------------------------------------\n"
     ]
    },
    {
     "name": "stdout",
     "output_type": "stream",
     "text": [
      "------------------------------------\n| approxkl           | 0.027260847 |\n| clipfrac           | 0.32641602  |\n| explained_variance | -0.0023     |\n| fps                | 377         |\n| n_updates          | 23          |\n| policy_entropy     | 8.62104     |\n| policy_loss        | 0.012730037 |\n| serial_timesteps   | 2944        |\n| time_elapsed       | 82          |\n| total_timesteps    | 23552       |\n| value_loss         | 7.817694    |\n------------------------------------\n"
     ]
    },
    {
     "name": "stdout",
     "output_type": "stream",
     "text": [
      "------------------------------------\n| approxkl           | 0.034356054 |\n| clipfrac           | 0.39892578  |\n| explained_variance | -0.0336     |\n| fps                | 369         |\n| n_updates          | 24          |\n| policy_entropy     | 8.62028     |\n| policy_loss        | 0.019749334 |\n| serial_timesteps   | 3072        |\n| time_elapsed       | 84.7        |\n| total_timesteps    | 24576       |\n| value_loss         | 0.234512    |\n------------------------------------\n"
     ]
    },
    {
     "name": "stdout",
     "output_type": "stream",
     "text": [
      "-------------------------------------\n| approxkl           | 0.025539637  |\n| clipfrac           | 0.3154297    |\n| explained_variance | -2.26        |\n| fps                | 369          |\n| n_updates          | 25           |\n| policy_entropy     | 8.622545     |\n| policy_loss        | 0.009723451  |\n| serial_timesteps   | 3200         |\n| time_elapsed       | 87.5         |\n| total_timesteps    | 25600        |\n| value_loss         | 0.0066416534 |\n-------------------------------------\n"
     ]
    },
    {
     "name": "stdout",
     "output_type": "stream",
     "text": [
      "------------------------------------\n| approxkl           | 0.020403981 |\n| clipfrac           | 0.25878906  |\n| explained_variance | -0.00936    |\n| fps                | 377         |\n| n_updates          | 26          |\n| policy_entropy     | 8.621813    |\n| policy_loss        | 0.013745693 |\n| serial_timesteps   | 3328        |\n| time_elapsed       | 90.3        |\n| total_timesteps    | 26624       |\n| value_loss         | 5.582676    |\n------------------------------------\n"
     ]
    },
    {
     "name": "stdout",
     "output_type": "stream",
     "text": [
      "------------------------------------\n| approxkl           | 0.037482563 |\n| clipfrac           | 0.2866211   |\n| explained_variance | -0.141      |\n| fps                | 374         |\n| n_updates          | 27          |\n| policy_entropy     | 8.62366     |\n| policy_loss        | 0.009322688 |\n| serial_timesteps   | 3456        |\n| time_elapsed       | 93          |\n| total_timesteps    | 27648       |\n| value_loss         | 0.04066288  |\n------------------------------------\n"
     ]
    },
    {
     "name": "stdout",
     "output_type": "stream",
     "text": [
      "------------------------------------\n| approxkl           | 0.019767467 |\n| clipfrac           | 0.26367188  |\n| explained_variance | 0.00682     |\n| fps                | 386         |\n| n_updates          | 28          |\n| policy_entropy     | 8.624606    |\n| policy_loss        | 0.015451457 |\n| serial_timesteps   | 3584        |\n| time_elapsed       | 95.7        |\n| total_timesteps    | 28672       |\n| value_loss         | 0.6531127   |\n------------------------------------\n"
     ]
    },
    {
     "name": "stdout",
     "output_type": "stream",
     "text": [
      "------------------------------------\n| approxkl           | 0.016239299 |\n| clipfrac           | 0.21801758  |\n| explained_variance | 0.0138      |\n| fps                | 391         |\n| n_updates          | 29          |\n| policy_entropy     | 8.622483    |\n| policy_loss        | 0.010076705 |\n| serial_timesteps   | 3712        |\n| time_elapsed       | 98.4        |\n| total_timesteps    | 29696       |\n| value_loss         | 0.37625763  |\n------------------------------------\n"
     ]
    },
    {
     "name": "stdout",
     "output_type": "stream",
     "text": [
      "------------------------------------\n| approxkl           | 0.021855308 |\n| clipfrac           | 0.2680664   |\n| explained_variance | 0.00103     |\n| fps                | 385         |\n| n_updates          | 30          |\n| policy_entropy     | 8.623123    |\n| policy_loss        | 0.015768275 |\n| serial_timesteps   | 3840        |\n| time_elapsed       | 101         |\n| total_timesteps    | 30720       |\n| value_loss         | 1.6891111   |\n------------------------------------\n"
     ]
    },
    {
     "name": "stdout",
     "output_type": "stream",
     "text": [
      "-------------------------------------\n| approxkl           | 0.018095033  |\n| clipfrac           | 0.2553711    |\n| explained_variance | 0.00381      |\n| fps                | 382          |\n| n_updates          | 31           |\n| policy_entropy     | 8.623368     |\n| policy_loss        | 0.0028227016 |\n| serial_timesteps   | 3968         |\n| time_elapsed       | 104          |\n| total_timesteps    | 31744        |\n| value_loss         | 3.174531     |\n-------------------------------------\n"
     ]
    },
    {
     "name": "stdout",
     "output_type": "stream",
     "text": [
      "--------------------------------------\n| approxkl           | 0.027789725   |\n| clipfrac           | 0.2109375     |\n| explained_variance | -1.07         |\n| fps                | 361           |\n| n_updates          | 32            |\n| policy_entropy     | 8.626787      |\n| policy_loss        | -0.0006844852 |\n| serial_timesteps   | 4096          |\n| time_elapsed       | 106           |\n| total_timesteps    | 32768         |\n| value_loss         | 0.010883933   |\n--------------------------------------\n"
     ]
    },
    {
     "name": "stdout",
     "output_type": "stream",
     "text": [
      "------------------------------------\n| approxkl           | 0.015435614 |\n| clipfrac           | 0.20751953  |\n| explained_variance | -0.00235    |\n| fps                | 385         |\n| n_updates          | 33          |\n| policy_entropy     | 8.630602    |\n| policy_loss        | 0.010560456 |\n| serial_timesteps   | 4224        |\n| time_elapsed       | 109         |\n| total_timesteps    | 33792       |\n| value_loss         | 5.9206524   |\n------------------------------------\n"
     ]
    },
    {
     "name": "stdout",
     "output_type": "stream",
     "text": [
      "-------------------------------------\n| approxkl           | 0.01304924   |\n| clipfrac           | 0.18676758   |\n| explained_variance | -0.00995     |\n| fps                | 380          |\n| n_updates          | 34           |\n| policy_entropy     | 8.635181     |\n| policy_loss        | 0.0012852994 |\n| serial_timesteps   | 4352         |\n| time_elapsed       | 112          |\n| total_timesteps    | 34816        |\n| value_loss         | 0.38388532   |\n-------------------------------------\n"
     ]
    },
    {
     "name": "stdout",
     "output_type": "stream",
     "text": [
      "-------------------------------------\n| approxkl           | 0.011805241  |\n| clipfrac           | 0.16821289   |\n| explained_variance | 0.000445     |\n| fps                | 375          |\n| n_updates          | 35           |\n| policy_entropy     | 8.639596     |\n| policy_loss        | 0.0028774238 |\n| serial_timesteps   | 4480         |\n| time_elapsed       | 114          |\n| total_timesteps    | 35840        |\n| value_loss         | 2.4942408    |\n-------------------------------------\n"
     ]
    },
    {
     "name": "stdout",
     "output_type": "stream",
     "text": [
      "-------------------------------------\n| approxkl           | 0.008447664  |\n| clipfrac           | 0.11767578   |\n| explained_variance | -2.93        |\n| fps                | 269          |\n| n_updates          | 36           |\n| policy_entropy     | 8.644072     |\n| policy_loss        | 0.0014761433 |\n| serial_timesteps   | 4608         |\n| time_elapsed       | 117          |\n| total_timesteps    | 36864        |\n| value_loss         | 0.003821652  |\n-------------------------------------\n"
     ]
    },
    {
     "name": "stdout",
     "output_type": "stream",
     "text": [
      "------------------------------------\n| approxkl           | 0.028704632 |\n| clipfrac           | 0.20776367  |\n| explained_variance | -0.00173    |\n| fps                | 292         |\n| n_updates          | 37          |\n| policy_entropy     | 8.646334    |\n| policy_loss        | 0.004683094 |\n| serial_timesteps   | 4736        |\n| time_elapsed       | 121         |\n| total_timesteps    | 37888       |\n| value_loss         | 2.1173458   |\n------------------------------------\n"
     ]
    },
    {
     "name": "stdout",
     "output_type": "stream",
     "text": [
      "---------------------------------------\n| approxkl           | 0.009140418    |\n| clipfrac           | 0.12670898     |\n| explained_variance | 0.00203        |\n| fps                | 332            |\n| n_updates          | 38             |\n| policy_entropy     | 8.644119       |\n| policy_loss        | -2.7883914e-05 |\n| serial_timesteps   | 4864           |\n| time_elapsed       | 125            |\n| total_timesteps    | 38912          |\n| value_loss         | 0.7275621      |\n---------------------------------------\n"
     ]
    },
    {
     "name": "stdout",
     "output_type": "stream",
     "text": [
      "------------------------------------\n| approxkl           | 0.012353605 |\n| clipfrac           | 0.1862793   |\n| explained_variance | -0.00071    |\n| fps                | 336         |\n| n_updates          | 39          |\n| policy_entropy     | 8.645588    |\n| policy_loss        | 0.003305942 |\n| serial_timesteps   | 4992        |\n| time_elapsed       | 128         |\n| total_timesteps    | 39936       |\n| value_loss         | 4.6303787   |\n------------------------------------\n"
     ]
    },
    {
     "name": "stdout",
     "output_type": "stream",
     "text": [
      "------------------------------------\n| approxkl           | 0.016315691 |\n| clipfrac           | 0.21826172  |\n| explained_variance | -0.00929    |\n| fps                | 346         |\n| n_updates          | 40          |\n| policy_entropy     | 8.647232    |\n| policy_loss        | -0.000989   |\n| serial_timesteps   | 5120        |\n| time_elapsed       | 131         |\n| total_timesteps    | 40960       |\n| value_loss         | 0.90187514  |\n------------------------------------\n"
     ]
    },
    {
     "name": "stdout",
     "output_type": "stream",
     "text": [
      "------------------------------------\n| approxkl           | 0.014830269 |\n| clipfrac           | 0.21142578  |\n| explained_variance | 0.00112     |\n| fps                | 276         |\n| n_updates          | 41          |\n| policy_entropy     | 8.648462    |\n| policy_loss        | 0.009173804 |\n| serial_timesteps   | 5248        |\n| time_elapsed       | 134         |\n| total_timesteps    | 41984       |\n| value_loss         | 14.638408   |\n------------------------------------\n"
     ]
    },
    {
     "name": "stdout",
     "output_type": "stream",
     "text": [
      "------------------------------------\n| approxkl           | 0.029110208 |\n| clipfrac           | 0.2565918   |\n| explained_variance | -0.0025     |\n| fps                | 309         |\n| n_updates          | 42          |\n| policy_entropy     | 8.650364    |\n| policy_loss        | 0.012092009 |\n| serial_timesteps   | 5376        |\n| time_elapsed       | 137         |\n| total_timesteps    | 43008       |\n| value_loss         | 3.2940316   |\n------------------------------------\n"
     ]
    },
    {
     "name": "stdout",
     "output_type": "stream",
     "text": [
      "-------------------------------------\n| approxkl           | 0.013044076  |\n| clipfrac           | 0.17797852   |\n| explained_variance | 0.00139      |\n| fps                | 337          |\n| n_updates          | 43           |\n| policy_entropy     | 8.654362     |\n| policy_loss        | 0.0008603915 |\n| serial_timesteps   | 5504         |\n| time_elapsed       | 141          |\n| total_timesteps    | 44032        |\n| value_loss         | 0.69796824   |\n-------------------------------------\n"
     ]
    },
    {
     "name": "stdout",
     "output_type": "stream",
     "text": [
      "-------------------------------------\n| approxkl           | 0.0117525235 |\n| clipfrac           | 0.15917969   |\n| explained_variance | 0.00199      |\n| fps                | 309          |\n| n_updates          | 44           |\n| policy_entropy     | 8.658914     |\n| policy_loss        | 0.005998631  |\n| serial_timesteps   | 5632         |\n| time_elapsed       | 144          |\n| total_timesteps    | 45056        |\n| value_loss         | 7.893893     |\n-------------------------------------\n"
     ]
    },
    {
     "name": "stdout",
     "output_type": "stream",
     "text": [
      "--------------------------------------\n| approxkl           | 0.0098262895  |\n| clipfrac           | 0.13110352    |\n| explained_variance | 0.000836      |\n| fps                | 327           |\n| n_updates          | 45            |\n| policy_entropy     | 8.663182      |\n| policy_loss        | -0.0033409256 |\n| serial_timesteps   | 5760          |\n| time_elapsed       | 147           |\n| total_timesteps    | 46080         |\n| value_loss         | 11.793655     |\n--------------------------------------\n"
     ]
    },
    {
     "name": "stdout",
     "output_type": "stream",
     "text": [
      "-------------------------------------\n| approxkl           | 0.009501209  |\n| clipfrac           | 0.13085938   |\n| explained_variance | -0.000895    |\n| fps                | 267          |\n| n_updates          | 46           |\n| policy_entropy     | 8.668912     |\n| policy_loss        | 0.0006575196 |\n| serial_timesteps   | 5888         |\n| time_elapsed       | 150          |\n| total_timesteps    | 47104        |\n| value_loss         | 11.604809    |\n-------------------------------------\n"
     ]
    },
    {
     "name": "stdout",
     "output_type": "stream",
     "text": [
      "-------------------------------------\n| approxkl           | 0.0182558    |\n| clipfrac           | 0.17749023   |\n| explained_variance | -0.0017      |\n| fps                | 346          |\n| n_updates          | 47           |\n| policy_entropy     | 8.671068     |\n| policy_loss        | 0.0001094793 |\n| serial_timesteps   | 6016         |\n| time_elapsed       | 154          |\n| total_timesteps    | 48128        |\n| value_loss         | 10.703406    |\n-------------------------------------\n"
     ]
    },
    {
     "name": "stdout",
     "output_type": "stream",
     "text": [
      "-------------------------------------\n| approxkl           | 0.0105425855 |\n| clipfrac           | 0.13891602   |\n| explained_variance | -4.14        |\n| fps                | 345          |\n| n_updates          | 48           |\n| policy_entropy     | 8.668952     |\n| policy_loss        | 0.0022486567 |\n| serial_timesteps   | 6144         |\n| time_elapsed       | 157          |\n| total_timesteps    | 49152        |\n| value_loss         | 0.011466163  |\n-------------------------------------\n"
     ]
    },
    {
     "name": "stdout",
     "output_type": "stream",
     "text": [
      "--------------------------------------\n| approxkl           | 0.008612595   |\n| clipfrac           | 0.11401367    |\n| explained_variance | -2.78         |\n| fps                | 335           |\n| n_updates          | 49            |\n| policy_entropy     | 8.671244      |\n| policy_loss        | -0.0003334894 |\n| serial_timesteps   | 6272          |\n| time_elapsed       | 160           |\n| total_timesteps    | 50176         |\n| value_loss         | 0.0010687615  |\n--------------------------------------\n"
     ]
    },
    {
     "name": "stdout",
     "output_type": "stream",
     "text": [
      "--------------------------------------\n| approxkl           | 0.008902976   |\n| clipfrac           | 0.12231445    |\n| explained_variance | -1.74         |\n| fps                | 330           |\n| n_updates          | 50            |\n| policy_entropy     | 8.672088      |\n| policy_loss        | -0.0053264936 |\n| serial_timesteps   | 6400          |\n| time_elapsed       | 163           |\n| total_timesteps    | 51200         |\n| value_loss         | 0.00073700567 |\n--------------------------------------\n"
     ]
    },
    {
     "name": "stdout",
     "output_type": "stream",
     "text": [
      "--------------------------------------\n| approxkl           | 0.006516685   |\n| clipfrac           | 0.08178711    |\n| explained_variance | 0.000759      |\n| fps                | 285           |\n| n_updates          | 51            |\n| policy_entropy     | 8.669441      |\n| policy_loss        | -0.0020982013 |\n| serial_timesteps   | 6528          |\n| time_elapsed       | 166           |\n| total_timesteps    | 52224         |\n| value_loss         | 12.687367     |\n--------------------------------------\n"
     ]
    },
    {
     "name": "stdout",
     "output_type": "stream",
     "text": [
      "--------------------------------------\n| approxkl           | 0.010622573   |\n| clipfrac           | 0.16186523    |\n| explained_variance | 0.0024        |\n| fps                | 332           |\n| n_updates          | 52            |\n| policy_entropy     | 8.66896       |\n| policy_loss        | -0.0006676339 |\n| serial_timesteps   | 6656          |\n| time_elapsed       | 170           |\n| total_timesteps    | 53248         |\n| value_loss         | 14.021395     |\n--------------------------------------\n"
     ]
    }
   ],
   "source": [
    "from wrappers.stable_wrappers import CustomPolicy\n",
    "\n",
    "\n",
    "from stable_baselines.common.policies import MlpPolicy, CnnLstmPolicy, CnnLnLstmPolicy\n",
    "\n",
    "from stable_baselines.sac.policies import MlpPolicy\n",
    "from stable_baselines import SAC, PPO2, A2C\n",
    "\n",
    "\n",
    "model = PPO2(CustomPolicy, env_vec, policy_kwargs={'observation_shape': agent.get_visual_sensor_shapes()}, verbose=1)\n",
    "                \n",
    "model.learn(total_timesteps=int(1e5))\n"
   ]
  },
  {
   "cell_type": "code",
   "execution_count": 4,
   "metadata": {
    "collapsed": true
   },
   "outputs": [],
   "source": [
    "obs = env_vec.reset()\n",
    "while True:\n",
    "    action, _states = model.predict(obs)\n",
    "    obs, rewards, dones, info = env_vec.step(action)\n",
    "    env_vec.render(mode='human')\n",
    "    if any(dones): env_vec.reset()"
   ]
  },
  {
   "cell_type": "code",
   "execution_count": 4,
   "metadata": {},
   "outputs": [],
   "source": [
    "\n",
    "obs = env_vec.reset()\n"
   ]
  },
  {
   "cell_type": "code",
   "execution_count": 24,
   "metadata": {},
   "outputs": [],
   "source": [
    "action, _states = model.predict(obs)\n",
    "obs, rewards, dones, info = env_vec.step(action)\n",
    "obs_conv = obs[:, 1: 2, :64, :1]"
   ]
  },
  {
   "cell_type": "code",
   "execution_count": 25,
   "metadata": {},
   "outputs": [
    {
     "name": "stdout",
     "output_type": "stream",
     "text": [
      "(8, 1, 64, 1)\n(8, 64, 1)\n"
     ]
    }
   ],
   "source": [
    "print(obs_conv.shape)\n",
    "import tensorflow as tf \n",
    "obs_conv = tf.squeeze(obs_conv, 1 )\n",
    "print(obs_conv.shape)"
   ]
  },
  {
   "cell_type": "code",
   "execution_count": null,
   "metadata": {},
   "outputs": [],
   "source": []
  }
 ],
 "metadata": {
  "kernelspec": {
   "display_name": "Python 2",
   "language": "python",
   "name": "python2"
  },
  "language_info": {
   "codemirror_mode": {
    "name": "ipython",
    "version": 2
   },
   "file_extension": ".py",
   "mimetype": "text/x-python",
   "name": "python",
   "nbconvert_exporter": "python",
   "pygments_lexer": "ipython2",
   "version": "2.7.6"
  }
 },
 "nbformat": 4,
 "nbformat_minor": 0
}
