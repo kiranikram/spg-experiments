{
 "cells": [
  {
   "cell_type": "code",
   "execution_count": 5,
   "metadata": {},
   "outputs": [],
   "source": [
    "from wrappers.train_eval import train_and_eval\n"
   ]
  },
  {
   "cell_type": "code",
   "execution_count": 6,
   "metadata": {},
   "outputs": [],
   "source": [
    "sensors = [ ('depth', {'fov':180, 'range':300, 'resolution': 64}),\n",
    "            ('rgb', {'fov':180, 'range':300, 'resolution': 64}),\n",
    "            ('touch', {'range': 2, 'resolution': 64})\n",
    "        ]\n",
    "\n",
    "agent_type = 'base'\n"
   ]
  },
  {
   "cell_type": "code",
   "execution_count": 7,
   "metadata": {
    "collapsed": true
   },
   "outputs": [
    {
     "name": "stderr",
     "output_type": "stream",
     "text": [
      "/usr/local/lib/python3.6/dist-packages/gym/logger.py:30: UserWarning: \u001b[33mWARN: Box bound precision lowered by casting to float32\u001b[0m\n  warnings.warn(colorize('%s: %s'%('WARN', msg % args), 'yellow'))\n"
     ]
    },
    {
     "name": "stdout",
     "output_type": "stream",
     "text": [
      "Result:  0 15.0 998.0\n"
     ]
    },
    {
     "name": "stdout",
     "output_type": "stream",
     "text": [
      "Result:  10000 13.75 998.0\n"
     ]
    },
    {
     "name": "stdout",
     "output_type": "stream",
     "text": [
      "Result:  20000 13.75 998.0\n"
     ]
    },
    {
     "name": "stdout",
     "output_type": "stream",
     "text": [
      "Result:  30000 23.75 998.0\n"
     ]
    },
    {
     "name": "stdout",
     "output_type": "stream",
     "text": [
      "Result:  40000 10.0 998.0\n"
     ]
    },
    {
     "name": "stdout",
     "output_type": "stream",
     "text": [
      "Result:  50000 17.5 998.0\n"
     ]
    },
    {
     "name": "stdout",
     "output_type": "stream",
     "text": [
      "Result:  60000 17.5 998.0\n"
     ]
    },
    {
     "name": "stdout",
     "output_type": "stream",
     "text": [
      "Result:  70000 23.75 998.0\n"
     ]
    },
    {
     "name": "stdout",
     "output_type": "stream",
     "text": [
      "Result:  80000 13.75 998.0\n"
     ]
    },
    {
     "name": "stdout",
     "output_type": "stream",
     "text": [
      "Result:  90000 17.5 998.0\n"
     ]
    },
    {
     "name": "stdout",
     "output_type": "stream",
     "text": [
      "Result:  100000 37.5 998.0\n"
     ]
    },
    {
     "name": "stdout",
     "output_type": "stream",
     "text": [
      "Result:  110000 28.75 998.0\n"
     ]
    },
    {
     "name": "stdout",
     "output_type": "stream",
     "text": [
      "Result:  120000 30.0 998.0\n"
     ]
    },
    {
     "name": "stdout",
     "output_type": "stream",
     "text": [
      "Result:  130000 25.0 998.0\n"
     ]
    }
   ],
   "source": [
    "\n",
    "for i in range(4):\n",
    "    \n",
    "    print('######### Multistep ' + str(i))\n",
    "\n",
    "    train_and_eval(agent_type, sensors, total_timesteps_training=int(1e6), \n",
    "                n_multisteps = 2, playground_name = 'spg_coinmaster', freq_eval=int(1e4), episodes_eval=2, exp_name='taaddaa')"
   ]
  },
  {
   "cell_type": "code",
   "execution_count": null,
   "metadata": {},
   "outputs": [],
   "source": [
    "obs = env.reset()\n",
    "\n",
    "        # Only keep one episode, don't take into account restart.\n",
    "        done = [False, False, False, False]\n",
    "        end_time = [0, 0, 0, 0]\n",
    "        rew = [0, 0, 0, 0]\n",
    "\n",
    "        while not all(done):\n",
    "\n",
    "            action, _states = model.predict(obs)\n",
    "            obs, rewards, dones, info = env.step(action)\n"
   ]
  },
  {
   "cell_type": "code",
   "execution_count": 4,
   "metadata": {},
   "outputs": [
    {
     "ename": "TypeError",
     "evalue": "train_and_eval() missing 2 required positional arguments: 'total_timesteps_training' and 'freq_eval'",
     "traceback": [
      "\u001b[0;31m---------------------------------------------------------------------------\u001b[0m",
      "\u001b[0;31mTypeError\u001b[0m                                 Traceback (most recent call last)",
      "\u001b[0;32m<ipython-input-4-75020c1250f1>\u001b[0m in \u001b[0;36m<module>\u001b[0;34m\u001b[0m\n\u001b[1;32m      9\u001b[0m \u001b[0;34m\u001b[0m\u001b[0m\n\u001b[1;32m     10\u001b[0m             train_and_eval(sensors, int(5e5), \n\u001b[0;32m---> 11\u001b[0;31m                 n_multisteps = multistep, playground_name = env, episodes_eval=4, exp_name=name)\n\u001b[0m",
      "\u001b[0;31mTypeError\u001b[0m: train_and_eval() missing 2 required positional arguments: 'total_timesteps_training' and 'freq_eval'"
     ],
     "output_type": "error"
    }
   ],
   "source": [
    "for index_test in range(5):\n",
    "    \n",
    "\n",
    "    for env in ['rl_dispenser_2rooms', 'rl_endgoal_9rooms']:\n",
    "    \n",
    "        for multistep in [None, 1, 2, 3, 4]:\n",
    "        \n",
    "            name = env+'__' + str(multistep )+ '__'+str(index_test)\n",
    "            \n",
    "            train_and_eval(sensors, int(5e5), \n",
    "                n_multisteps = multistep, playground_name = env, episodes_eval=4, exp_name=name)"
   ]
  },
  {
   "cell_type": "code",
   "execution_count": null,
   "metadata": {},
   "outputs": [],
   "source": []
  }
 ],
 "metadata": {
  "kernelspec": {
   "display_name": "Python 2",
   "language": "python",
   "name": "python2"
  },
  "language_info": {
   "codemirror_mode": {
    "name": "ipython",
    "version": 2
   },
   "file_extension": ".py",
   "mimetype": "text/x-python",
   "name": "python",
   "nbconvert_exporter": "python",
   "pygments_lexer": "ipython2",
   "version": "2.7.6"
  }
 },
 "nbformat": 4,
 "nbformat_minor": 0
}
